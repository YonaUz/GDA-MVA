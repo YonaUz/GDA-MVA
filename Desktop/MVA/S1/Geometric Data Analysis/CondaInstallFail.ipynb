{
 "cells": [
  {
   "cell_type": "code",
   "execution_count": 1,
   "id": "d6708769",
   "metadata": {},
   "outputs": [],
   "source": [
    "!conda config --add channels conda-forge"
   ]
  },
  {
   "cell_type": "code",
   "execution_count": 2,
   "id": "c60b9fd6",
   "metadata": {},
   "outputs": [
    {
     "name": "stdout",
     "output_type": "stream",
     "text": [
      "Solving environment: failed\n",
      "\n",
      "CondaValueError: Malformed version string '~': invalid character(s).\n",
      "\n"
     ]
    }
   ],
   "source": [
    "!conda install fenics -y"
   ]
  },
  {
   "cell_type": "code",
   "execution_count": 3,
   "id": "ddc8ab26",
   "metadata": {},
   "outputs": [
    {
     "name": "stdout",
     "output_type": "stream",
     "text": [
      "Solving environment: ...working... failed\n",
      "Solving environment: ...working... failed\n"
     ]
    },
    {
     "name": "stderr",
     "output_type": "stream",
     "text": [
      "\n",
      "CondaValueError: Malformed version string '~': invalid character(s).\n",
      "\n",
      "\n",
      "CondaValueError: Malformed version string '~': invalid character(s).\n",
      "\n",
      "bash: line 3: and: command not found\n",
      "bash: line 4: !conda: command not found\n"
     ]
    }
   ],
   "source": [
    "%%bash\n",
    "conda install --channel defaults conda python=3.6 --yes\n",
    "conda update --channel defaults --all --yes\n",
    "and in the next cell\n",
    "!conda --version"
   ]
  },
  {
   "cell_type": "code",
   "execution_count": 5,
   "id": "234eac82",
   "metadata": {},
   "outputs": [
    {
     "name": "stdout",
     "output_type": "stream",
     "text": [
      "\r\n",
      "     active environment : base\r\n",
      "    active env location : /home/yona/anaconda3\r\n",
      "            shell level : 1\r\n",
      "       user config file : /home/yona/.condarc\r\n",
      " populated config files : /home/yona/.condarc\r\n",
      "          conda version : 4.5.11\r\n",
      "    conda-build version : 3.15.1\r\n",
      "         python version : 3.7.0.final.0\r\n",
      "       base environment : /home/yona/anaconda3  (writable)\r\n",
      "           channel URLs : https://conda.anaconda.org/conda-forge/linux-64\r\n",
      "                          https://conda.anaconda.org/conda-forge/noarch\r\n",
      "                          https://repo.anaconda.com/pkgs/main/linux-64\r\n",
      "                          https://repo.anaconda.com/pkgs/main/noarch\r\n",
      "                          https://repo.anaconda.com/pkgs/free/linux-64\r\n",
      "                          https://repo.anaconda.com/pkgs/free/noarch\r\n",
      "                          https://repo.anaconda.com/pkgs/r/linux-64\r\n",
      "                          https://repo.anaconda.com/pkgs/r/noarch\r\n",
      "                          https://repo.anaconda.com/pkgs/pro/linux-64\r\n",
      "                          https://repo.anaconda.com/pkgs/pro/noarch\r\n",
      "          package cache : /home/yona/anaconda3/pkgs\r\n",
      "                          /home/yona/.conda/pkgs\r\n",
      "       envs directories : /home/yona/anaconda3/envs\r\n",
      "                          /home/yona/.conda/envs\r\n",
      "               platform : linux-64\r\n",
      "             user-agent : conda/4.5.11 requests/2.19.1 CPython/3.7.0 Linux/5.15.133.1-microsoft-standard-WSL2 ubuntu/22.04 glibc/2.35\r\n",
      "                UID:GID : 1000:1000\r\n",
      "             netrc file : None\r\n",
      "           offline mode : False\r\n",
      "\r\n"
     ]
    }
   ],
   "source": [
    "!conda info"
   ]
  },
  {
   "cell_type": "code",
   "execution_count": 7,
   "id": "0953f730",
   "metadata": {},
   "outputs": [
    {
     "name": "stdout",
     "output_type": "stream",
     "text": [
      "Solving environment: ...working... failed\n",
      "Solving environment: ...working... failed\n"
     ]
    },
    {
     "name": "stderr",
     "output_type": "stream",
     "text": [
      "\n",
      "CondaValueError: Malformed version string '~': invalid character(s).\n",
      "\n",
      "\n",
      "InvalidVersionSpecError: Invalid version spec: =2.7\n",
      "\n"
     ]
    }
   ],
   "source": [
    "%%bash\n",
    "conda install --channel defaults conda python=3.6 --yes\n",
    "conda update --channel defaults --all --yes"
   ]
  },
  {
   "cell_type": "code",
   "execution_count": 4,
   "id": "97a4d03a",
   "metadata": {},
   "outputs": [
    {
     "name": "stdout",
     "output_type": "stream",
     "text": [
      "conda 4.5.11\r\n"
     ]
    }
   ],
   "source": [
    "!conda --version"
   ]
  },
  {
   "cell_type": "code",
   "execution_count": 6,
   "id": "d091bfba",
   "metadata": {},
   "outputs": [
    {
     "name": "stdout",
     "output_type": "stream",
     "text": [
      "Solving environment: failed\n",
      "\n",
      "InvalidVersionSpecError: Invalid version spec: =2.7\n",
      "\n"
     ]
    }
   ],
   "source": [
    "!conda upgrade -n base -c defaults --override-channels conda"
   ]
  },
  {
   "cell_type": "code",
   "execution_count": null,
   "id": "df78aa82",
   "metadata": {},
   "outputs": [],
   "source": []
  }
 ],
 "metadata": {
  "kernelspec": {
   "display_name": "Python 3 (ipykernel)",
   "language": "python",
   "name": "python3"
  },
  "language_info": {
   "codemirror_mode": {
    "name": "ipython",
    "version": 3
   },
   "file_extension": ".py",
   "mimetype": "text/x-python",
   "name": "python",
   "nbconvert_exporter": "python",
   "pygments_lexer": "ipython3",
   "version": "3.10.12"
  }
 },
 "nbformat": 4,
 "nbformat_minor": 5
}

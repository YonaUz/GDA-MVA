{
 "cells": [
  {
   "cell_type": "code",
   "execution_count": 1,
   "metadata": {},
   "outputs": [],
   "source": [
    "import subprocess\n",
    "import fenics as fe\n",
    "from dolfin import Function\n",
    "from fenics import near, between, Function, TestFunction, TrialFunction, grad, div, det, tr, dot\n",
    "\n",
    "from gmsh_interface import GmshInterface"
   ]
  },
  {
   "cell_type": "code",
   "execution_count": 2,
   "metadata": {},
   "outputs": [
    {
     "ename": "FileNotFoundError",
     "evalue": "[Errno 2] No such file or directory: '../geo/simple_muscle_3d.geo'",
     "output_type": "error",
     "traceback": [
      "\u001b[0;31m---------------------------------------------------------------------------\u001b[0m",
      "\u001b[0;31mFileNotFoundError\u001b[0m                         Traceback (most recent call last)",
      "Cell \u001b[0;32mIn[2], line 144\u001b[0m\n\u001b[1;32m    140\u001b[0m         output \u001b[38;5;241m=\u001b[39m fe\u001b[38;5;241m.\u001b[39mFile(\u001b[38;5;124m\"\u001b[39m\u001b[38;5;124m/tmp/static.pvd\u001b[39m\u001b[38;5;124m\"\u001b[39m)\n\u001b[1;32m    141\u001b[0m         output \u001b[38;5;241m<<\u001b[39m u\n\u001b[0;32m--> 144\u001b[0m g \u001b[38;5;241m=\u001b[39m \u001b[43mGmshInterface\u001b[49m\u001b[43m(\u001b[49m\u001b[38;5;124;43m\"\u001b[39;49m\u001b[38;5;124;43m../geo/simple_muscle_3d.geo\u001b[39;49m\u001b[38;5;124;43m\"\u001b[39;49m\u001b[43m)\u001b[49m\n\u001b[1;32m    145\u001b[0m g\u001b[38;5;241m.\u001b[39mset_parameter(\u001b[38;5;124m\"\u001b[39m\u001b[38;5;124mlc\u001b[39m\u001b[38;5;124m\"\u001b[39m,\u001b[38;5;241m0.08\u001b[39m)\n\u001b[1;32m    146\u001b[0m \u001b[38;5;66;03m#for i in [1,2,3]:\u001b[39;00m\n\u001b[1;32m    147\u001b[0m \u001b[38;5;66;03m#    g.set_parameter(\"T_\"+str(i),0.4)\u001b[39;00m\n\u001b[1;32m    148\u001b[0m \u001b[38;5;66;03m#    g.set_parameter(\"W_\"+str(i),0.4)\u001b[39;00m\n",
      "File \u001b[0;32m~/gmsh_interface.py:18\u001b[0m, in \u001b[0;36mGmshInterface.__init__\u001b[0;34m(self, fn, dim, dolfin_convert_exec)\u001b[0m\n\u001b[1;32m     15\u001b[0m \u001b[38;5;28mself\u001b[39m\u001b[38;5;241m.\u001b[39mparameters \u001b[38;5;241m=\u001b[39m \u001b[38;5;28mdict\u001b[39m()\n\u001b[1;32m     16\u001b[0m \u001b[38;5;28mself\u001b[39m\u001b[38;5;241m.\u001b[39mpattern \u001b[38;5;241m=\u001b[39m  re\u001b[38;5;241m.\u001b[39mcompile(\u001b[38;5;124mr\u001b[39m\u001b[38;5;124m\"\u001b[39m\u001b[38;5;124m\\\u001b[39m\u001b[38;5;124ms*(\u001b[39m\u001b[38;5;124m\\\u001b[39m\u001b[38;5;124mS*)\u001b[39m\u001b[38;5;124m\\\u001b[39m\u001b[38;5;124ms* = \u001b[39m\u001b[38;5;124m\\\u001b[39m\u001b[38;5;124ms*DefineNumber\u001b[39m\u001b[38;5;124m\\\u001b[39m\u001b[38;5;124m[\u001b[39m\u001b[38;5;124m\\\u001b[39m\u001b[38;5;124ms*(\u001b[39m\u001b[38;5;124m\\\u001b[39m\u001b[38;5;124mS*)\u001b[39m\u001b[38;5;124m\\\u001b[39m\u001b[38;5;124ms*,\u001b[39m\u001b[38;5;124m\"\u001b[39m , re\u001b[38;5;241m.\u001b[39mVERBOSE )\n\u001b[0;32m---> 18\u001b[0m \u001b[38;5;28;43mself\u001b[39;49m\u001b[38;5;241;43m.\u001b[39;49m\u001b[43mfind_parameters\u001b[49m\u001b[43m(\u001b[49m\u001b[43m)\u001b[49m\n\u001b[1;32m     20\u001b[0m \u001b[38;5;28;01mif\u001b[39;00m dolfin_convert_exec \u001b[38;5;129;01mis\u001b[39;00m \u001b[38;5;28;01mNone\u001b[39;00m:\n\u001b[1;32m     21\u001b[0m     \u001b[38;5;28mself\u001b[39m\u001b[38;5;241m.\u001b[39mdolfin_convert_exec \u001b[38;5;241m=\u001b[39m \u001b[38;5;124m\"\u001b[39m\u001b[38;5;124m/opt/miniconda3/envs/fenics/bin/dolfin-convert\u001b[39m\u001b[38;5;124m\"\u001b[39m\n",
      "File \u001b[0;32m~/gmsh_interface.py:26\u001b[0m, in \u001b[0;36mGmshInterface.find_parameters\u001b[0;34m(self)\u001b[0m\n\u001b[1;32m     24\u001b[0m \u001b[38;5;28;01mdef\u001b[39;00m \u001b[38;5;21mfind_parameters\u001b[39m(\u001b[38;5;28mself\u001b[39m):\n\u001b[0;32m---> 26\u001b[0m     f \u001b[38;5;241m=\u001b[39m \u001b[38;5;28;43mopen\u001b[39;49m\u001b[43m(\u001b[49m\u001b[38;5;28;43mself\u001b[39;49m\u001b[38;5;241;43m.\u001b[39;49m\u001b[43mfn\u001b[49m\u001b[43m,\u001b[49m\u001b[43m \u001b[49m\u001b[38;5;124;43m\"\u001b[39;49m\u001b[38;5;124;43mr\u001b[39;49m\u001b[38;5;124;43m\"\u001b[39;49m\u001b[43m)\u001b[49m\n\u001b[1;32m     28\u001b[0m     \u001b[38;5;28;01mfor\u001b[39;00m line \u001b[38;5;129;01min\u001b[39;00m f:\n\u001b[1;32m     29\u001b[0m         m \u001b[38;5;241m=\u001b[39m \u001b[38;5;28mself\u001b[39m\u001b[38;5;241m.\u001b[39mpattern\u001b[38;5;241m.\u001b[39mmatch(line)\n",
      "\u001b[0;31mFileNotFoundError\u001b[0m: [Errno 2] No such file or directory: '../geo/simple_muscle_3d.geo'"
     ]
    }
   ],
   "source": [
    "def convert_msh_to_xml(fn_msh, fn_xml):\n",
    "    subprocess.call(\"dolfin-convert ../geo/%s ../geo/%s\" % (fn_msh, fn_xml))\n",
    "\n",
    "\n",
    "class Hyperplane(fe.SubDomain):\n",
    "    def __init__(self,z_value):\n",
    "        self.z_value = z_value\n",
    "\n",
    "    def inside(self, x, on_boundary):\n",
    "        return on_boundary and near(x[2], self.z_value)\n",
    "\n",
    "\n",
    "class Stripe(fe.SubDomain):\n",
    "    def __init__(self,z_interval):\n",
    "        self.z_interval = z_interval\n",
    "\n",
    "    def inside(self, x, on_boundary):\n",
    "        return on_boundary and between(x[2], self.z_interval[0], self.z_interval[1])\n",
    "\n",
    "\n",
    "class MuscleState:\n",
    "\n",
    "    def __init__(self):\n",
    "        self.mesh = None\n",
    "\n",
    "        # self.domains = None\n",
    "        # self.boundaries = None\n",
    "\n",
    "        self.dx = None\n",
    "        self.ds = None\n",
    "\n",
    "        # current deformation\n",
    "        self.u = None\n",
    "\n",
    "    def load_mesh(self, fn: str = None):\n",
    "        if fn is not None:\n",
    "            self.mesh = fe.Mesh(fn)\n",
    "        else:\n",
    "            self.mesh = fe.UnitCubeMesh(10,12,14)\n",
    "\n",
    "\n",
    "\n",
    "    def compute_static_deformation(self):\n",
    "\n",
    "        assert self.mesh is not None\n",
    "\n",
    "        # now we define subdomains on the mesh\n",
    "\n",
    "        bottom = fe.CompiledSubDomain('near(x[2], 0) && on_boundary')\n",
    "        top = fe.CompiledSubDomain('near(x[2], 1) && on_boundary')\n",
    "        # middle = fe.CompiledSubDomain('x[2] > 0.3 && x[2] < 0.7')\n",
    "\n",
    "        # Initialize mesh function for interior domains\n",
    "        self.domains = fe.MeshFunction('size_t', self.mesh, 3)\n",
    "        self.domains.set_all(0)\n",
    "        # middle.mark(self.domains, 1)\n",
    "\n",
    "        # Initialize mesh function for boundary domains\n",
    "        self.boundaries = fe.MeshFunction('size_t', self.mesh, 2)\n",
    "        self.boundaries.set_all(0)\n",
    "        bottom.mark(self.boundaries, 1)\n",
    "        top.mark(self.boundaries, 2)\n",
    "\n",
    "        # Define new measures associated with the interior domains and\n",
    "        # exterior boundaries\n",
    "\n",
    "        self.dx = fe.Measure('dx', domain=self.mesh, subdomain_data=self.domains)\n",
    "        self.ds = fe.Measure('ds', domain=self.mesh, subdomain_data=self.boundaries)\n",
    "\n",
    "        # define function spaces\n",
    "        V = fe.VectorFunctionSpace(self.mesh, \"Lagrange\", 1)\n",
    "        # now we define subdomains on the mesh\n",
    "\n",
    "        bottom = fe.CompiledSubDomain('near(x[2], 0) && on_boundary')\n",
    "        top = fe.CompiledSubDomain('near(x[2], 1) && on_boundary')\n",
    "        # middle = fe.CompiledSubDomain('x[2] > 0.3 && x[2] < 0.7')\n",
    "\n",
    "        d = self.mesh.geometry().dim()\n",
    "\n",
    "        # Initialize mesh function for interior domains\n",
    "        self.domains = fe.MeshFunction('size_t', self.mesh, d)\n",
    "        self.domains.set_all(0)\n",
    "        # middle.mark(self.domains, 1)\n",
    "\n",
    "        # Initialize mesh function for boundary domains\n",
    "        self.boundaries = fe.MeshFunction('size_t', self.mesh, d - 1)\n",
    "        self.boundaries.set_all(0)\n",
    "        bottom.mark(self.boundaries, 1)\n",
    "        top.mark(self.boundaries, 2)\n",
    "\n",
    "        # Define new measures associated with the interior domains and\n",
    "        # exterior boundaries\n",
    "\n",
    "        self.dx = fe.Measure('dx', domain=self.mesh, subdomain_data=self.domains)\n",
    "        self.ds = fe.Measure('ds', domain=self.mesh, subdomain_data=self.boundaries)\n",
    "\n",
    "        c_zero = fe.Constant((0,0,0))\n",
    "\n",
    "        # define boundary conditions\n",
    "        bc_bottom = fe.DirichletBC(V, c_zero, bottom)\n",
    "        bc_top    = fe.DirichletBC(V, c_zero, top)\n",
    "\n",
    "        bcs = [bc_bottom]  # , bc_top]\n",
    "\n",
    "        # define functions\n",
    "        du = TrialFunction(V)\n",
    "        v = TestFunction(V)\n",
    "        u = Function(V)\n",
    "        B = fe.Constant((0., 2.0, 0.))\n",
    "        T = fe.Constant((0.0, 0.0, 0.0))\n",
    "\n",
    "        d = u.geometric_dimension()\n",
    "        I = fe.Identity(d)\n",
    "        F = I + grad(u)\n",
    "        C = F.T*F\n",
    "\n",
    "        I_1 = tr(C)\n",
    "        J = det(F)\n",
    "\n",
    "        E, mu = 10., 0.3\n",
    "        mu, lmbda = fe.Constant(E/(2*(1+mu))), fe.Constant(E*mu/((1+mu)*(1-2*mu)))\n",
    "\n",
    "        # stored energy (comp. neo-hookean model)\n",
    "        psi = (mu/2.)*(I_1 - 3) - mu*fe.ln(J) + (lmbda/2.)*(fe.ln(J))**2\n",
    "\n",
    "        dx = self.dx\n",
    "        ds = self.ds\n",
    "\n",
    "        Pi = psi*fe.dx - dot(B, u)*fe.dx - dot(T, u)*fe.ds\n",
    "\n",
    "        F = fe.derivative(Pi, u, v)\n",
    "        J = fe.derivative(F, u, du)\n",
    "\n",
    "        fe.solve(F == 0, u, bcs, J=J)\n",
    "\n",
    "        # save results\n",
    "        self.u = u\n",
    "        \n",
    "        # write to disk\n",
    "        output = fe.File(\"/tmp/static.pvd\")\n",
    "        output << u\n",
    "\n",
    "\n",
    "g = GmshInterface(\"../geo/simple_muscle_3d.geo\")\n",
    "g.set_parameter(\"lc\",0.08)\n",
    "#for i in [1,2,3]:\n",
    "#    g.set_parameter(\"T_\"+str(i),0.4)\n",
    "#    g.set_parameter(\"W_\"+str(i),0.4)\n",
    "g.generate_xml(\"../geo/test.xml\")\n",
    "\n",
    "import matplotlib.pyplot as plt"
   ]
  },
  {
   "cell_type": "code",
   "execution_count": 3,
   "metadata": {},
   "outputs": [
    {
     "ename": "RuntimeError",
     "evalue": "boost::filesystem::create_directory: Permission denied: \"../geo\"",
     "output_type": "error",
     "traceback": [
      "\u001b[0;31m---------------------------------------------------------------------------\u001b[0m",
      "\u001b[0;31mRuntimeError\u001b[0m                              Traceback (most recent call last)",
      "Cell \u001b[0;32mIn[3], line 2\u001b[0m\n\u001b[1;32m      1\u001b[0m m \u001b[38;5;241m=\u001b[39m MuscleState()\n\u001b[0;32m----> 2\u001b[0m \u001b[43mm\u001b[49m\u001b[38;5;241;43m.\u001b[39;49m\u001b[43mload_mesh\u001b[49m\u001b[43m(\u001b[49m\u001b[38;5;124;43m\"\u001b[39;49m\u001b[38;5;124;43m../geo/test.xml\u001b[39;49m\u001b[38;5;124;43m\"\u001b[39;49m\u001b[43m)\u001b[49m\n\u001b[1;32m      3\u001b[0m fe\u001b[38;5;241m.\u001b[39mplot(m\u001b[38;5;241m.\u001b[39mmesh)\n\u001b[1;32m      4\u001b[0m plt\u001b[38;5;241m.\u001b[39mshow()\n",
      "Cell \u001b[0;32mIn[2], line 37\u001b[0m, in \u001b[0;36mMuscleState.load_mesh\u001b[0;34m(self, fn)\u001b[0m\n\u001b[1;32m     35\u001b[0m \u001b[38;5;28;01mdef\u001b[39;00m \u001b[38;5;21mload_mesh\u001b[39m(\u001b[38;5;28mself\u001b[39m, fn: \u001b[38;5;28mstr\u001b[39m \u001b[38;5;241m=\u001b[39m \u001b[38;5;28;01mNone\u001b[39;00m):\n\u001b[1;32m     36\u001b[0m     \u001b[38;5;28;01mif\u001b[39;00m fn \u001b[38;5;129;01mis\u001b[39;00m \u001b[38;5;129;01mnot\u001b[39;00m \u001b[38;5;28;01mNone\u001b[39;00m:\n\u001b[0;32m---> 37\u001b[0m         \u001b[38;5;28mself\u001b[39m\u001b[38;5;241m.\u001b[39mmesh \u001b[38;5;241m=\u001b[39m \u001b[43mfe\u001b[49m\u001b[38;5;241;43m.\u001b[39;49m\u001b[43mMesh\u001b[49m\u001b[43m(\u001b[49m\u001b[43mfn\u001b[49m\u001b[43m)\u001b[49m\n\u001b[1;32m     38\u001b[0m     \u001b[38;5;28;01melse\u001b[39;00m:\n\u001b[1;32m     39\u001b[0m         \u001b[38;5;28mself\u001b[39m\u001b[38;5;241m.\u001b[39mmesh \u001b[38;5;241m=\u001b[39m fe\u001b[38;5;241m.\u001b[39mUnitCubeMesh(\u001b[38;5;241m10\u001b[39m,\u001b[38;5;241m12\u001b[39m,\u001b[38;5;241m14\u001b[39m)\n",
      "\u001b[0;31mRuntimeError\u001b[0m: boost::filesystem::create_directory: Permission denied: \"../geo\""
     ]
    }
   ],
   "source": [
    "m = MuscleState()\n",
    "m.load_mesh(\"../geo/test.xml\")\n",
    "fe.plot(m.mesh)\n",
    "plt.show()\n",
    "m.compute_static_deformation()"
   ]
  },
  {
   "cell_type": "code",
   "execution_count": 4,
   "metadata": {},
   "outputs": [],
   "source": [
    "from dolfin import *"
   ]
  },
  {
   "cell_type": "code",
   "execution_count": 7,
   "metadata": {},
   "outputs": [],
   "source": [
    "# Create empty Mesh\n",
    "mesh = Mesh()"
   ]
  },
  {
   "cell_type": "code",
   "execution_count": 8,
   "metadata": {},
   "outputs": [],
   "source": [
    "# Create list of polygonal domain vertices\n",
    "domain_vertices = [Point(0.0, 0.0),\n",
    "                   Point(10.0, 0.0),\n",
    "                   Point(10.0, 2.0),\n",
    "                   Point(8.0, 2.0),\n",
    "                   Point(7.5, 1.0),\n",
    "                   Point(2.5, 1.0),\n",
    "                   Point(2.0, 4.0),\n",
    "                   Point(0.0, 4.0),\n",
    "                   Point(0.0, 0.0)]"
   ]
  },
  {
   "cell_type": "code",
   "execution_count": 9,
   "metadata": {},
   "outputs": [
    {
     "ename": "NameError",
     "evalue": "name 'PolygonalMeshGenerator' is not defined",
     "output_type": "error",
     "traceback": [
      "\u001b[0;31m---------------------------------------------------------------------------\u001b[0m",
      "\u001b[0;31mNameError\u001b[0m                                 Traceback (most recent call last)",
      "Cell \u001b[0;32mIn[9], line 2\u001b[0m\n\u001b[1;32m      1\u001b[0m \u001b[38;5;66;03m# Generate mesh and plot\u001b[39;00m\n\u001b[0;32m----> 2\u001b[0m \u001b[43mPolygonalMeshGenerator\u001b[49m\u001b[38;5;241m.\u001b[39mgenerate(mesh, domain_vertices, \u001b[38;5;241m0.25\u001b[39m);\n\u001b[1;32m      3\u001b[0m plot(mesh, interactive\u001b[38;5;241m=\u001b[39m\u001b[38;5;28;01mTrue\u001b[39;00m)\n",
      "\u001b[0;31mNameError\u001b[0m: name 'PolygonalMeshGenerator' is not defined"
     ]
    }
   ],
   "source": [
    "# Generate mesh and plot\n",
    "PolygonalMeshGenerator.generate(mesh, domain_vertices, 0.25);\n",
    "plot(mesh, interactive=True)"
   ]
  },
  {
   "cell_type": "code",
   "execution_count": 10,
   "metadata": {},
   "outputs": [
    {
     "ename": "NameError",
     "evalue": "name 'PolyhedralMeshGenerator' is not defined",
     "output_type": "error",
     "traceback": [
      "\u001b[0;31m---------------------------------------------------------------------------\u001b[0m",
      "\u001b[0;31mNameError\u001b[0m                                 Traceback (most recent call last)",
      "Cell \u001b[0;32mIn[10], line 2\u001b[0m\n\u001b[1;32m      1\u001b[0m \u001b[38;5;66;03m# Generate 3D mesh from OFF file input (tetrahedron)\u001b[39;00m\n\u001b[0;32m----> 2\u001b[0m \u001b[43mPolyhedralMeshGenerator\u001b[49m\u001b[38;5;241m.\u001b[39mgenerate(mesh, \u001b[38;5;124m\"\u001b[39m\u001b[38;5;124m../tetrahedron.off\u001b[39m\u001b[38;5;124m\"\u001b[39m, \u001b[38;5;241m0.05\u001b[39m)\n\u001b[1;32m      3\u001b[0m plot(mesh, interactive\u001b[38;5;241m=\u001b[39m\u001b[38;5;28;01mTrue\u001b[39;00m)\n\u001b[1;32m      5\u001b[0m \u001b[38;5;66;03m# Generate 3D mesh from OFF file input (cube)\u001b[39;00m\n",
      "\u001b[0;31mNameError\u001b[0m: name 'PolyhedralMeshGenerator' is not defined"
     ]
    }
   ],
   "source": [
    "# Generate 3D mesh from OFF file input (tetrahedron)\n",
    "PolyhedralMeshGenerator.generate(mesh, \"../tetrahedron.off\", 0.05)\n",
    "plot(mesh, interactive=True)\n",
    "\n",
    "# Generate 3D mesh from OFF file input (cube)\n",
    "PolyhedralMeshGenerator.generate(mesh, \"../cube.off\", 0.05)\n",
    "plot(mesh, interactive=True)"
   ]
  },
  {
   "cell_type": "code",
   "execution_count": 11,
   "metadata": {},
   "outputs": [
    {
     "name": "stdout",
     "output_type": "stream",
     "text": [
      "Unknown ufl object type FiniteElement\n"
     ]
    },
    {
     "ename": "Exception",
     "evalue": "Unknown ufl object type FiniteElement",
     "output_type": "error",
     "traceback": [
      "\u001b[0;31m---------------------------------------------------------------------------\u001b[0m",
      "\u001b[0;31mException\u001b[0m                                 Traceback (most recent call last)",
      "Cell \u001b[0;32mIn[11], line 13\u001b[0m\n\u001b[1;32m     11\u001b[0m nx \u001b[38;5;241m=\u001b[39m ny \u001b[38;5;241m=\u001b[39m \u001b[38;5;241m8\u001b[39m\n\u001b[1;32m     12\u001b[0m mesh \u001b[38;5;241m=\u001b[39m UnitSquareMesh(nx, ny)\n\u001b[0;32m---> 13\u001b[0m V \u001b[38;5;241m=\u001b[39m \u001b[43mFunctionSpace\u001b[49m\u001b[43m(\u001b[49m\u001b[43mmesh\u001b[49m\u001b[43m,\u001b[49m\u001b[43m \u001b[49m\u001b[38;5;124;43m'\u001b[39;49m\u001b[38;5;124;43mP\u001b[39;49m\u001b[38;5;124;43m'\u001b[39;49m\u001b[43m,\u001b[49m\u001b[43m \u001b[49m\u001b[38;5;241;43m1\u001b[39;49m\u001b[43m)\u001b[49m\n\u001b[1;32m     15\u001b[0m \u001b[38;5;66;03m# Define boundary condition\u001b[39;00m\n\u001b[1;32m     16\u001b[0m u_D \u001b[38;5;241m=\u001b[39m Expression(\u001b[38;5;124m'\u001b[39m\u001b[38;5;124m1 + x[0]*x[0] + alpha*x[1]*x[1] + beta*t\u001b[39m\u001b[38;5;124m'\u001b[39m,\n\u001b[1;32m     17\u001b[0m                  degree\u001b[38;5;241m=\u001b[39m\u001b[38;5;241m2\u001b[39m, alpha\u001b[38;5;241m=\u001b[39malpha, beta\u001b[38;5;241m=\u001b[39mbeta, t\u001b[38;5;241m=\u001b[39m\u001b[38;5;241m0\u001b[39m)\n",
      "File \u001b[0;32m/usr/lib/petsc/lib/python3/dist-packages/dolfin/function/functionspace.py:33\u001b[0m, in \u001b[0;36mFunctionSpace.__init__\u001b[0;34m(self, *args, **kwargs)\u001b[0m\n\u001b[1;32m     31\u001b[0m     \u001b[38;5;28mself\u001b[39m\u001b[38;5;241m.\u001b[39m_init_from_ufl(\u001b[38;5;241m*\u001b[39margs, \u001b[38;5;241m*\u001b[39m\u001b[38;5;241m*\u001b[39mkwargs)\n\u001b[1;32m     32\u001b[0m \u001b[38;5;28;01melse\u001b[39;00m:\n\u001b[0;32m---> 33\u001b[0m     \u001b[38;5;28;43mself\u001b[39;49m\u001b[38;5;241;43m.\u001b[39;49m\u001b[43m_init_convenience\u001b[49m\u001b[43m(\u001b[49m\u001b[38;5;241;43m*\u001b[39;49m\u001b[43margs\u001b[49m\u001b[43m,\u001b[49m\u001b[43m \u001b[49m\u001b[38;5;241;43m*\u001b[39;49m\u001b[38;5;241;43m*\u001b[39;49m\u001b[43mkwargs\u001b[49m\u001b[43m)\u001b[49m\n",
      "File \u001b[0;32m/usr/lib/petsc/lib/python3/dist-packages/dolfin/function/functionspace.py:100\u001b[0m, in \u001b[0;36mFunctionSpace._init_convenience\u001b[0;34m(self, mesh, family, degree, form_degree, constrained_domain, restriction)\u001b[0m\n\u001b[1;32m     93\u001b[0m \u001b[38;5;28;01mdef\u001b[39;00m \u001b[38;5;21m_init_convenience\u001b[39m(\u001b[38;5;28mself\u001b[39m, mesh, family, degree, form_degree\u001b[38;5;241m=\u001b[39m\u001b[38;5;28;01mNone\u001b[39;00m,\n\u001b[1;32m     94\u001b[0m                       constrained_domain\u001b[38;5;241m=\u001b[39m\u001b[38;5;28;01mNone\u001b[39;00m, restriction\u001b[38;5;241m=\u001b[39m\u001b[38;5;28;01mNone\u001b[39;00m):\n\u001b[1;32m     95\u001b[0m \n\u001b[1;32m     96\u001b[0m     \u001b[38;5;66;03m# Create UFL element\u001b[39;00m\n\u001b[1;32m     97\u001b[0m     element \u001b[38;5;241m=\u001b[39m ufl\u001b[38;5;241m.\u001b[39mFiniteElement(family, mesh\u001b[38;5;241m.\u001b[39mufl_cell(), degree,\n\u001b[1;32m     98\u001b[0m                                 form_degree\u001b[38;5;241m=\u001b[39mform_degree)\n\u001b[0;32m--> 100\u001b[0m     \u001b[38;5;28;43mself\u001b[39;49m\u001b[38;5;241;43m.\u001b[39;49m\u001b[43m_init_from_ufl\u001b[49m\u001b[43m(\u001b[49m\u001b[43mmesh\u001b[49m\u001b[43m,\u001b[49m\u001b[43m \u001b[49m\u001b[43melement\u001b[49m\u001b[43m,\u001b[49m\u001b[43m \u001b[49m\u001b[43mconstrained_domain\u001b[49m\u001b[38;5;241;43m=\u001b[39;49m\u001b[43mconstrained_domain\u001b[49m\u001b[43m)\u001b[49m\n",
      "File \u001b[0;32m/usr/lib/petsc/lib/python3/dist-packages/dolfin/function/functionspace.py:42\u001b[0m, in \u001b[0;36mFunctionSpace._init_from_ufl\u001b[0;34m(self, mesh, element, constrained_domain)\u001b[0m\n\u001b[1;32m     39\u001b[0m ufl\u001b[38;5;241m.\u001b[39mFunctionSpace\u001b[38;5;241m.\u001b[39m\u001b[38;5;21m__init__\u001b[39m(\u001b[38;5;28mself\u001b[39m, mesh\u001b[38;5;241m.\u001b[39mufl_domain(), element)\n\u001b[1;32m     41\u001b[0m \u001b[38;5;66;03m# Compile dofmap and element\u001b[39;00m\n\u001b[0;32m---> 42\u001b[0m ufc_element, ufc_dofmap \u001b[38;5;241m=\u001b[39m \u001b[43mffc_jit\u001b[49m\u001b[43m(\u001b[49m\u001b[43melement\u001b[49m\u001b[43m,\u001b[49m\u001b[43m \u001b[49m\u001b[43mform_compiler_parameters\u001b[49m\u001b[38;5;241;43m=\u001b[39;49m\u001b[38;5;28;43;01mNone\u001b[39;49;00m\u001b[43m,\u001b[49m\n\u001b[1;32m     43\u001b[0m \u001b[43m                                  \u001b[49m\u001b[43mmpi_comm\u001b[49m\u001b[38;5;241;43m=\u001b[39;49m\u001b[43mmesh\u001b[49m\u001b[38;5;241;43m.\u001b[39;49m\u001b[43mmpi_comm\u001b[49m\u001b[43m(\u001b[49m\u001b[43m)\u001b[49m\u001b[43m)\u001b[49m\n\u001b[1;32m     44\u001b[0m ufc_element \u001b[38;5;241m=\u001b[39m cpp\u001b[38;5;241m.\u001b[39mfem\u001b[38;5;241m.\u001b[39mmake_ufc_finite_element(ufc_element)\n\u001b[1;32m     46\u001b[0m \u001b[38;5;66;03m# Create DOLFIN element and dofmap\u001b[39;00m\n",
      "File \u001b[0;32m/usr/lib/petsc/lib/python3/dist-packages/dolfin/jit/jit.py:50\u001b[0m, in \u001b[0;36mmpi_jit_decorator.<locals>.mpi_jit\u001b[0;34m(*args, **kwargs)\u001b[0m\n\u001b[1;32m     48\u001b[0m \u001b[38;5;66;03m# Just call JIT compiler when running in serial\u001b[39;00m\n\u001b[1;32m     49\u001b[0m \u001b[38;5;28;01mif\u001b[39;00m MPI\u001b[38;5;241m.\u001b[39msize(mpi_comm) \u001b[38;5;241m==\u001b[39m \u001b[38;5;241m1\u001b[39m:\n\u001b[0;32m---> 50\u001b[0m     \u001b[38;5;28;01mreturn\u001b[39;00m \u001b[43mlocal_jit\u001b[49m\u001b[43m(\u001b[49m\u001b[38;5;241;43m*\u001b[39;49m\u001b[43margs\u001b[49m\u001b[43m,\u001b[49m\u001b[43m \u001b[49m\u001b[38;5;241;43m*\u001b[39;49m\u001b[38;5;241;43m*\u001b[39;49m\u001b[43mkwargs\u001b[49m\u001b[43m)\u001b[49m\n\u001b[1;32m     52\u001b[0m \u001b[38;5;66;03m# Default status (0 == ok, 1 == fail)\u001b[39;00m\n\u001b[1;32m     53\u001b[0m status \u001b[38;5;241m=\u001b[39m \u001b[38;5;241m0\u001b[39m\n",
      "File \u001b[0;32m/usr/lib/petsc/lib/python3/dist-packages/dolfin/jit/jit.py:100\u001b[0m, in \u001b[0;36mffc_jit\u001b[0;34m(ufl_form, form_compiler_parameters)\u001b[0m\n\u001b[1;32m     98\u001b[0m p\u001b[38;5;241m.\u001b[39mupdate(\u001b[38;5;28mdict\u001b[39m(parameters[\u001b[38;5;124m\"\u001b[39m\u001b[38;5;124mform_compiler\u001b[39m\u001b[38;5;124m\"\u001b[39m]))\n\u001b[1;32m     99\u001b[0m p\u001b[38;5;241m.\u001b[39mupdate(form_compiler_parameters \u001b[38;5;129;01mor\u001b[39;00m {})\n\u001b[0;32m--> 100\u001b[0m \u001b[38;5;28;01mreturn\u001b[39;00m \u001b[43mffc\u001b[49m\u001b[38;5;241;43m.\u001b[39;49m\u001b[43mjit\u001b[49m\u001b[43m(\u001b[49m\u001b[43mufl_form\u001b[49m\u001b[43m,\u001b[49m\u001b[43m \u001b[49m\u001b[43mparameters\u001b[49m\u001b[38;5;241;43m=\u001b[39;49m\u001b[43mp\u001b[49m\u001b[43m)\u001b[49m\n",
      "File \u001b[0;32m~/.local/lib/python3.10/site-packages/ffc/jitcompiler.py:214\u001b[0m, in \u001b[0;36mjit\u001b[0;34m(ufl_object, parameters, indirect)\u001b[0m\n\u001b[1;32m    211\u001b[0m set_prefix(parameters[\u001b[38;5;124m\"\u001b[39m\u001b[38;5;124mlog_prefix\u001b[39m\u001b[38;5;124m\"\u001b[39m])\n\u001b[1;32m    213\u001b[0m \u001b[38;5;66;03m# Make unique module name for generated code\u001b[39;00m\n\u001b[0;32m--> 214\u001b[0m kind, module_name \u001b[38;5;241m=\u001b[39m \u001b[43mcompute_jit_prefix\u001b[49m\u001b[43m(\u001b[49m\u001b[43mufl_object\u001b[49m\u001b[43m,\u001b[49m\u001b[43m \u001b[49m\u001b[43mparameters\u001b[49m\u001b[43m)\u001b[49m\n\u001b[1;32m    216\u001b[0m \u001b[38;5;66;03m# Inspect cache and generate+build if necessary\u001b[39;00m\n\u001b[1;32m    217\u001b[0m module \u001b[38;5;241m=\u001b[39m jit_build(ufl_object, module_name, parameters)\n",
      "File \u001b[0;32m~/.local/lib/python3.10/site-packages/ffc/jitcompiler.py:156\u001b[0m, in \u001b[0;36mcompute_jit_prefix\u001b[0;34m(ufl_object, parameters, kind)\u001b[0m\n\u001b[1;32m    154\u001b[0m     object_signature \u001b[38;5;241m=\u001b[39m \u001b[38;5;28mrepr\u001b[39m(ufl_object)\n\u001b[1;32m    155\u001b[0m \u001b[38;5;28;01melse\u001b[39;00m:\n\u001b[0;32m--> 156\u001b[0m     \u001b[43merror\u001b[49m\u001b[43m(\u001b[49m\u001b[38;5;124;43m\"\u001b[39;49m\u001b[38;5;124;43mUnknown ufl object type \u001b[39;49m\u001b[38;5;132;43;01m%s\u001b[39;49;00m\u001b[38;5;124;43m\"\u001b[39;49m\u001b[43m \u001b[49m\u001b[38;5;241;43m%\u001b[39;49m\u001b[43m \u001b[49m\u001b[43m(\u001b[49m\u001b[43mufl_object\u001b[49m\u001b[38;5;241;43m.\u001b[39;49m\u001b[38;5;18;43m__class__\u001b[39;49m\u001b[38;5;241;43m.\u001b[39;49m\u001b[38;5;18;43m__name__\u001b[39;49m\u001b[43m,\u001b[49m\u001b[43m)\u001b[49m\u001b[43m)\u001b[49m\n\u001b[1;32m    158\u001b[0m \u001b[38;5;66;03m# Compute deterministic string of relevant parameters\u001b[39;00m\n\u001b[1;32m    159\u001b[0m parameters_signature \u001b[38;5;241m=\u001b[39m compute_jit_parameters_signature(parameters)\n",
      "File \u001b[0;32m<string>:1\u001b[0m, in \u001b[0;36m<lambda>\u001b[0;34m(*message)\u001b[0m\n",
      "File \u001b[0;32m~/.local/lib/python3.10/site-packages/ufl/log.py:172\u001b[0m, in \u001b[0;36mLogger.error\u001b[0;34m(self, *message)\u001b[0m\n\u001b[1;32m    170\u001b[0m \u001b[38;5;124m\"\u001b[39m\u001b[38;5;124mWrite error message and raise an exception.\u001b[39m\u001b[38;5;124m\"\u001b[39m\n\u001b[1;32m    171\u001b[0m \u001b[38;5;28mself\u001b[39m\u001b[38;5;241m.\u001b[39m_log\u001b[38;5;241m.\u001b[39merror(\u001b[38;5;241m*\u001b[39mmessage)\n\u001b[0;32m--> 172\u001b[0m \u001b[38;5;28;01mraise\u001b[39;00m \u001b[38;5;28mself\u001b[39m\u001b[38;5;241m.\u001b[39m_exception_type(\u001b[38;5;28mself\u001b[39m\u001b[38;5;241m.\u001b[39m_format_raw(\u001b[38;5;241m*\u001b[39mmessage))\n",
      "\u001b[0;31mException\u001b[0m: Unknown ufl object type FiniteElement"
     ]
    }
   ],
   "source": [
    "from fenics import *\n",
    "import numpy as np\n",
    "\n",
    "T = 2.0            # final time\n",
    "num_steps = 10     # number of time steps\n",
    "dt = T / num_steps # time step size\n",
    "alpha = 3          # parameter alpha\n",
    "beta = 1.2         # parameter beta\n",
    "\n",
    "# Create mesh and define function space\n",
    "nx = ny = 8\n",
    "mesh = UnitSquareMesh(nx, ny)\n",
    "V = FunctionSpace(mesh, 'P', 1)\n",
    "\n",
    "# Define boundary condition\n",
    "u_D = Expression('1 + x[0]*x[0] + alpha*x[1]*x[1] + beta*t',\n",
    "                 degree=2, alpha=alpha, beta=beta, t=0)\n",
    "\n",
    "def boundary(x, on_boundary):\n",
    "    return on_boundary\n",
    "\n",
    "bc = DirichletBC(V, u_D, boundary)\n",
    "\n",
    "# Define initial value\n",
    "u_n = interpolate(u_D, V)\n",
    "#u_n = project(u_D, V)\n",
    "\n",
    "# Define variational problem\n",
    "u = TrialFunction(V)\n",
    "v = TestFunction(V)\n",
    "f = Constant(beta - 2 - 2*alpha)\n",
    "\n",
    "F = u*v*dx + dt*dot(grad(u), grad(v))*dx - (u_n + dt*f)*v*dx\n",
    "a, L = lhs(F), rhs(F)\n",
    "\n",
    "# Time-stepping\n",
    "u = Function(V)\n",
    "t = 0\n",
    "for n in range(num_steps):\n",
    "\n",
    "    # Update current time\n",
    "    t += dt\n",
    "    u_D.t = t\n",
    "\n",
    "    # Compute solution\n",
    "    solve(a == L, u, bc)\n",
    "\n",
    "    # Plot solution\n",
    "    plot(u)\n",
    "\n",
    "    # Compute error at vertices\n",
    "    u_e = interpolate(u_D, V)\n",
    "    error = np.abs(u_e.vector().array() - u.vector().array()).max()\n",
    "    print('t = %.2f: error = %.3g' % (t, error))\n",
    "\n",
    "    # Update previous solution\n",
    "    u_n.assign(u)\n",
    "\n",
    "# Hold plot\n",
    "interactive()"
   ]
  },
  {
   "cell_type": "code",
   "execution_count": null,
   "metadata": {},
   "outputs": [],
   "source": []
  }
 ],
 "metadata": {
  "kernelspec": {
   "display_name": "Python 3 (ipykernel)",
   "language": "python",
   "name": "python3"
  },
  "language_info": {
   "codemirror_mode": {
    "name": "ipython",
    "version": 3
   },
   "file_extension": ".py",
   "mimetype": "text/x-python",
   "name": "python",
   "nbconvert_exporter": "python",
   "pygments_lexer": "ipython3",
   "version": "3.10.12"
  }
 },
 "nbformat": 4,
 "nbformat_minor": 2
}
